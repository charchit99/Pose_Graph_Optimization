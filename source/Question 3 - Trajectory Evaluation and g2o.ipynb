{
 "cells": [
  {
   "cell_type": "markdown",
   "id": "exposed-little",
   "metadata": {},
   "source": [
    "# Question 3: Trajectory Evaluation and g2o"
   ]
  },
  {
   "cell_type": "markdown",
   "id": "hearing-bachelor",
   "metadata": {},
   "source": [
    "_Refer to the example notebooks for installation instructions_"
   ]
  },
  {
   "cell_type": "code",
   "execution_count": 5,
   "metadata": {},
   "outputs": [],
   "source": [
    "import os"
   ]
  },
  {
   "cell_type": "markdown",
   "id": "radio-atlantic",
   "metadata": {},
   "source": [
    "# Evo"
   ]
  },
  {
   "cell_type": "markdown",
   "id": "recognized-booking",
   "metadata": {},
   "source": [
    "So you've implemented 2D SLAM, great! Now, what? We need a measure of how good the trajectory is. The error/loss used earlier doesn't tell us much about how the trajectory differs from the ground truth. Here, we try to do just this - compute error metrics. Rather than computing these from scratch, we will just Evo - https://github.com/MichaelGrupp/evo/."
   ]
  },
  {
   "cell_type": "markdown",
   "id": "amino-command",
   "metadata": {},
   "source": [
    "Look at the absolute pose error (APE) and relative pose error (RPE). What do they capture and how are they calculated (descriptive answer)? How do these metrics differ in methodology? Can we determine if the error is more along the x/y axis?\n",
    "\n",
    "Answer the above questions and report errors for the obtained trajectory."
   ]
  },
  {
   "cell_type": "code",
   "execution_count": 8,
   "id": "typical-brief",
   "metadata": {},
   "outputs": [
    {
     "name": "stdout",
     "output_type": "stream",
     "text": [
      "Figure(640x480)\n",
      "saved '../data/gt.kitti' from '../data/gt.g2o'\n",
      "Figure(640x480)\n",
      "saved '../data/edges-poses-optimised.kitti' from '../data/edges-poses-optimised.g2o'\n"
     ]
    },
    {
     "data": {
      "text/plain": [
       "0"
      ]
     },
     "execution_count": 8,
     "metadata": {},
     "output_type": "execute_result"
    }
   ],
   "source": [
    "# Write up with plots/images\n",
    "\n",
    "#Convertig gt.txt file to gt.g2o\n",
    "os.system('cp ../data/gt.txt ../data/gt.g2o')\n",
    "\n",
    "#Converting ground truth file to kitti\n",
    "os.system('python3 ../misc/g2o_to_kitti.py ../data/gt.g2o ../data/gt.kitti')\n",
    "\n",
    "#Converting our final optimised file to kitti\n",
    "os.system('python3 ../misc/g2o_to_kitti.py ../data/edges-poses-optimised.g2o ../data/edges-poses-optimised.kitti')"
   ]
  },
  {
   "cell_type": "code",
   "execution_count": 16,
   "metadata": {},
   "outputs": [
    {
     "name": "stdout",
     "output_type": "stream",
     "text": [
      "Absolute Pose Error:\n",
      "APE w.r.t. translation part (m)\n",
      "(not aligned)\n",
      "\n",
      "       max\t12.502893\n",
      "      mean\t6.380586\n",
      "    median\t6.614653\n",
      "       min\t0.001606\n",
      "      rmse\t7.500385\n",
      "       sse\t6750.693838\n",
      "       std\t3.942576\n",
      "\n",
      "\n",
      "Relative Pose Error:\n",
      "RPE w.r.t. translation part (m)\n",
      "for delta = 1 (frames) using consecutive pairs\n",
      "(not aligned)\n",
      "\n",
      "       max\t0.301190\n",
      "      mean\t0.123245\n",
      "    median\t0.110301\n",
      "       min\t0.017458\n",
      "      rmse\t0.138368\n",
      "       sse\t2.278340\n",
      "       std\t0.062900\n",
      "\n"
     ]
    },
    {
     "data": {
      "text/plain": [
       "0"
      ]
     },
     "execution_count": 16,
     "metadata": {},
     "output_type": "execute_result"
    }
   ],
   "source": [
    "#Using EVO:\n",
    "\n",
    "print(\"Absolute Pose Error:\")\n",
    "os.system('evo_ape kitti ../data/gt.kitti ../data/edges-poses-optimised.kitti')\n",
    "\n",
    "print(\"\\nRelative Pose Error:\")\n",
    "os.system('evo_rpe kitti ../data/gt.kitti ../data/edges-poses-optimised.kitti')"
   ]
  },
  {
   "cell_type": "code",
   "execution_count": 17,
   "metadata": {},
   "outputs": [
    {
     "name": "stdout",
     "output_type": "stream",
     "text": [
      "--------------------------------------------------------------------------------\n",
      "Loaded 120 poses from: ../data/gt.kitti\n",
      "Loaded 120 poses from: ../data/edges-poses-optimised.kitti\n",
      "--------------------------------------------------------------------------------\n",
      "name:\tgt\n",
      "infos:\n",
      "\tnr. of poses\t120\n",
      "\tpath length (m)\t52.976517997999295\n",
      "\tpos_end (m)\t[-2.8 -4.5  0. ]\n",
      "\tpos_start (m)\t[-8.  5.  0.]\n",
      "--------------------------------------------------------------------------------\n",
      "name:\tedges-poses-optimised\n",
      "infos:\n",
      "\tnr. of poses\t120\n",
      "\tpath length (m)\t54.44266175954694\n",
      "\tpos_end (m)\t[-12.687023   -2.1541839   0.       ]\n",
      "\tpos_start (m)\t[-8.000713   5.0014396  0.       ]\n",
      "[ERROR] Unhandled error in evo.main_traj\n",
      "Traceback (most recent call last):\n",
      "  File \"/home/abhigyangargav/.local/lib/python3.6/site-packages/evo/entry_points.py\", line 92, in launch\n",
      "    main_module.run(args)\n",
      "  File \"/home/abhigyangargav/.local/lib/python3.6/site-packages/evo/main_traj.py\", line 398, in run\n",
      "    from evo.tools import plot\n",
      "  File \"/home/abhigyangargav/.local/lib/python3.6/site-packages/evo/tools/plot.py\", line 34, in <module>\n",
      "    import matplotlib.pyplot as plt\n",
      "  File \"/home/abhigyangargav/.local/lib/python3.6/site-packages/matplotlib/pyplot.py\", line 2336, in <module>\n",
      "    switch_backend(rcParams[\"backend\"])\n",
      "  File \"/home/abhigyangargav/.local/lib/python3.6/site-packages/matplotlib/pyplot.py\", line 276, in switch_backend\n",
      "    class backend_mod(matplotlib.backend_bases._Backend):\n",
      "  File \"/home/abhigyangargav/.local/lib/python3.6/site-packages/matplotlib/pyplot.py\", line 277, in backend_mod\n",
      "    locals().update(vars(importlib.import_module(backend_name)))\n",
      "  File \"/usr/lib/python3.6/importlib/__init__.py\", line 126, in import_module\n",
      "    return _bootstrap._gcd_import(name[level:], package, level)\n",
      "  File \"/home/abhigyangargav/.local/lib/python3.6/site-packages/matplotlib/backends/backend_tkagg.py\", line 1, in <module>\n",
      "    from . import _backend_tk\n",
      "  File \"/home/abhigyangargav/.local/lib/python3.6/site-packages/matplotlib/backends/_backend_tk.py\", line 6, in <module>\n",
      "    import tkinter as tk\n",
      "ModuleNotFoundError: No module named 'tkinter'\n",
      "\n",
      "[ERROR] evo module evo.main_traj crashed - no logfile written (disabled)\n"
     ]
    },
    {
     "data": {
      "text/plain": [
       "256"
      ]
     },
     "execution_count": 17,
     "metadata": {},
     "output_type": "execute_result"
    }
   ],
   "source": [
    "os.system('evo_traj kitti ../data/gt.kitti ../data/edges-poses-optimised.kitti -v --plot --plot_mode xy')"
   ]
  },
  {
   "cell_type": "markdown",
   "id": "surrounded-anderson",
   "metadata": {},
   "source": [
    "If you're interested, play around with this tool and add any other plots that you think might be relevant/interesting."
   ]
  },
  {
   "cell_type": "markdown",
   "id": "exceptional-charity",
   "metadata": {},
   "source": [
    "# g2o"
   ]
  },
  {
   "cell_type": "markdown",
   "id": "presidential-hayes",
   "metadata": {},
   "source": [
    "Install g2o as mentioned in `examples/g2o.ipynb` and optimise `edges.txt`, the file you used earlier. Also use `g2o_viewer` and optimize `intel` (a trajectory in the Intel research lab) and `sphere`. They should look something like:\n",
    "\n",
    "\n",
    "<table><tr>\n",
    "<td> <img src=\"../misc/intel.jpg\" alt=\"Drawing\" style=\"width: 250px;\"/> </td>\n",
    "<td> <img src=\"../misc/sphere.jpg\" alt=\"Drawing\" style=\"width: 250px;\"/> </td>\n",
    "</tr></table>"
   ]
  },
  {
   "cell_type": "markdown",
   "id": "amino-football",
   "metadata": {},
   "source": [
    "Write briefly about your observations and try out few options in the GUI. What do they do, how do they perform?"
   ]
  },
  {
   "cell_type": "code",
   "execution_count": null,
   "id": "interstate-arizona",
   "metadata": {},
   "outputs": [],
   "source": [
    "#Optimsing edges.txt\n",
    "os.system('g2o_viewer ../data/edges-poses.g2o')"
   ]
  },
  {
   "cell_type": "markdown",
   "metadata": {},
   "source": [
    "The pose graph we have is:  \n",
    "![pose-graph-opt](../misc/Q3-images/edges-given.jpeg \"edges.g2o\")\n",
    "\n",
    "The initial guess is:  \n",
    "![pose-graph-opt](../misc/Q3-images/edges-initial.jpeg \"edges.g2o\")\n",
    "\n",
    "After optimisation with g2o with number of iteration=1  \n",
    "![pose-graph-opt](../misc/Q3-images/edges-1-iter.jpeg \"edges.g2o\")\n",
    "\n",
    "After optimisation with g2o with number of iteration=3  \n",
    "![pose-graph-opt](../misc/Q3-images/edges-3-iter.jpeg \"edges.g2o\")\n",
    "\n",
    "After optimisation with g2o with number of iteration=6  \n",
    "![pose-graph-opt](../misc/Q3-images/edges-6-iter.jpeg \"edges.g2o\")\n",
    "\n",
    "After optimisation with g2o with number of iteration=10  \n",
    "![pose-graph-opt](../misc/Q3-images/edges-10-iter.jpeg \"edges.g2o\")"
   ]
  },
  {
   "cell_type": "code",
   "execution_count": null,
   "metadata": {},
   "outputs": [],
   "source": [
    "#Optimising intel.g2o\n",
    "os.system('g2o_viewer ../data/intel.g2o')"
   ]
  },
  {
   "cell_type": "markdown",
   "metadata": {},
   "source": [
    "The pose graph we have is:  \n",
    "![pose-graph-opt](../misc/Q3-images/intel-given.jpeg \"edges.g2o\")\n",
    "\n",
    "The initial guess is:  \n",
    "![pose-graph-opt](../misc/Q3-images/intel-initial.jpeg \"edges.g2o\")\n",
    "\n",
    "After optimisation with g2o with number of iteration=1  \n",
    "![pose-graph-opt](../misc/Q3-images/intel-1-iter.jpeg \"edges.g2o\")\n",
    "\n",
    "After optimisation with g2o with number of iteration=3  \n",
    "![pose-graph-opt](../misc/Q3-images/intel-3-iter.jpeg \"edges.g2o\")\n",
    "\n",
    "After optimisation with g2o with number of iteration=6  \n",
    "![pose-graph-opt](../misc/Q3-images/intel-6-iter.jpeg \"edges.g2o\")\n",
    "\n",
    "After optimisation with g2o with number of iteration=10  \n",
    "![pose-graph-opt](../misc/Q3-images/intel-10-iter.jpeg \"edges.g2o\")"
   ]
  },
  {
   "cell_type": "code",
   "execution_count": 24,
   "metadata": {},
   "outputs": [
    {
     "name": "stderr",
     "output_type": "stream",
     "text": [
      "sh: 1: g2o_viewer: not found\n"
     ]
    },
    {
     "data": {
      "text/plain": [
       "32512"
      ]
     },
     "execution_count": 24,
     "metadata": {},
     "output_type": "execute_result"
    }
   ],
   "source": [
    "#Optimising sphere.g2o\n",
    "os.system('g2o_viewer ../data/sphere.g2o')"
   ]
  },
  {
   "cell_type": "markdown",
   "metadata": {},
   "source": [
    "The pose graph we have is:   \n",
    "![pose-graph-opt](../misc/Q3-images/sphere-given.jpeg \"sphere.g2o\")\n",
    "\n",
    "The initial guess is:   \n",
    "![pose-graph-opt](../misc/Q3-images/sphere-initial.jpeg \"sphere.g2o\")\n",
    "\n",
    "After optimisation with g2o with number of iteration=10   \n",
    "![pose-graph-opt](../misc/Q3-images/sphere-10-iter.jpeg \"sphere.g2o\")\n",
    "\n",
    "After optimisation with g2o with number of iteration=50  \n",
    "![pose-graph-opt](../misc/Q3-images/sphere-50-iter.jpeg \"sphere.g2o\")\n",
    "\n",
    "After optimisation with g2o with number of iteration=75  \n",
    "![pose-graph-opt](../misc/Q3-images/sphere-75-iter.jpeg \"sphere.g2o\")\n",
    "\n",
    "After optimisation with g2o with number of iteration=100   \n",
    "![pose-graph-opt](../misc/Q3-images/sphere-100-iter.jpeg \"sphere.g2o\")\n",
    "\n",
    "After optimisation with g2o with number of iteration=75 and robust-kernel with width=10\n",
    "![pose-graph-opt](../misc/Q3-images/sphere-75-iter-robust.jpeg \"sphere.g2o\")\n",
    "\n",
    "After optimisation with g2o with number of iteration=100 and robust-kernel with width=10  \n",
    "![pose-graph-opt](../misc/Q3-images/sphere-100-iter-robust.jpeg \"sphere.g2o\")"
   ]
  }
 ],
 "metadata": {
  "interpreter": {
   "hash": "09248cfbfdbae1f3ddf13523fbce01c858c73c3c3698d2daee24239339bb4a27"
  },
  "kernelspec": {
   "display_name": "Python 3.8.8 64-bit ('base': conda)",
   "name": "python3"
  },
  "language_info": {
   "codemirror_mode": {
    "name": "ipython",
    "version": 3
   },
   "file_extension": ".py",
   "mimetype": "text/x-python",
   "name": "python",
   "nbconvert_exporter": "python",
   "pygments_lexer": "ipython3",
   "version": "3.8.8"
  }
 },
 "nbformat": 4,
 "nbformat_minor": 5
}
